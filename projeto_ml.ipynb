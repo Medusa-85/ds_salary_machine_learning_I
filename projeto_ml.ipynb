{
 "cells": [
  {
   "cell_type": "markdown",
   "metadata": {},
   "source": [
    "### Informações do grupo 3\n",
    "- Nomes: Ricardo Endres,\n",
    "- Turma: 1008\n",
    "- link dataset: https://www.kaggle.com/datasets/arnabchaki/data-science-salaries-2023"
   ]
  },
  {
   "cell_type": "markdown",
   "metadata": {},
   "source": [
    "## Objetivo Principal do Conjunto de Dados\n",
    "\n",
    "O objetivo principal deste conjunto de dados é fornecer insights sobre os fatores que afetam os salários dos profissionais na área de ciência de dados. Ele pode ser usado para responder perguntas como:\n",
    "\n",
    "* Qual é o salário médio anual em empresas de médio porte nos EUA nos anos de 2022 e 2023?\n",
    "* Como o salário médio varia de acordo com o nível de experiência para engenheiros de dados e cientistas de dados em empresas de médio porte nos EUA?\n",
    "* Quais são os salários médios do cargo para cargos de nível inicial/júnior em empresas de pequeno, médio e grande porte?\n",
    "* Como estão ganhando os Data Scientists que trabalham presencialmente em comparação com os que trabalham remotamente?\n",
    "\n",
    "### Importância para as Empresas\n",
    "\n",
    "Esta informação seria interessante para ajustar os perfis dos profissionais dentro das empresas.\n",
    "\n",
    "* Será que conseguimos predizer, conforme as características dadas, se o perfil do profissional se encaixa na profissão Data Scientist?\n",
    "  * Esta informação seria interessante para ajustar os perfis dos profissionais dentro das empresas.\n",
    "\n",
    "* Se o profissional ocupa o cargo de Data Scientist, conforme suas características, ele estaria na faixa salarial correta?\n",
    "  * Esta informação seria interessante para ajustar valores de salários conforme as características do profissional, dentro das empresas.\n"
   ]
  },
  {
   "cell_type": "code",
   "execution_count": 1,
   "metadata": {},
   "outputs": [],
   "source": [
    "# importe as principais bibliotecas\n",
    "import pandas as pd\n",
    "import numpy as np\n",
    "import matplotlib.pyplot as plt\n",
    "import seaborn as sns\n"
   ]
  },
  {
   "cell_type": "code",
   "execution_count": null,
   "metadata": {},
   "outputs": [],
   "source": [
    "# Carregando os dados\n",
    "df_original = pd.read_csv('ds_salaries.csv')\n",
    "df_original.head()"
   ]
  }
 ],
 "metadata": {
  "kernelspec": {
   "display_name": "Python 3",
   "language": "python",
   "name": "python3"
  },
  "language_info": {
   "codemirror_mode": {
    "name": "ipython",
    "version": 3
   },
   "file_extension": ".py",
   "mimetype": "text/x-python",
   "name": "python",
   "nbconvert_exporter": "python",
   "pygments_lexer": "ipython3",
   "version": "3.11.4"
  }
 },
 "nbformat": 4,
 "nbformat_minor": 2
}
